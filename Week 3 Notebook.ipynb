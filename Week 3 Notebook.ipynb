{
    "cells": [
        {
            "cell_type": "markdown",
            "metadata": {},
            "source": "# Week 3 Hands-on Notebook with KBO Data"
        },
        {
            "cell_type": "code",
            "execution_count": 3,
            "metadata": {},
            "outputs": [
                {
                    "data": {
                        "text/html": "<div>\n<style scoped>\n    .dataframe tbody tr th:only-of-type {\n        vertical-align: middle;\n    }\n\n    .dataframe tbody tr th {\n        vertical-align: top;\n    }\n\n    .dataframe thead th {\n        text-align: right;\n    }\n</style>\n<table border=\"1\" class=\"dataframe\">\n  <thead>\n    <tr style=\"text-align: right;\">\n      <th></th>\n      <th>Fantasy_Team</th>\n      <th>Fantasy_Position</th>\n      <th>KBO_URL</th>\n      <th>KBO_Player_Name</th>\n      <th>KBO_Team</th>\n      <th>KBO_Position</th>\n      <th>Week</th>\n      <th>Date</th>\n      <th>Opp</th>\n      <th>AVG</th>\n      <th>...</th>\n      <th>RBI</th>\n      <th>SB</th>\n      <th>CS</th>\n      <th>BB</th>\n      <th>HBP</th>\n      <th>SO</th>\n      <th>GIDP</th>\n      <th>SF</th>\n      <th>TB</th>\n      <th>HQS</th>\n    </tr>\n  </thead>\n  <tbody>\n    <tr>\n      <th>0</th>\n      <td>NaN</td>\n      <td>NaN</td>\n      <td>http://eng.koreabaseball.com/Teams/PlayerInfoH...</td>\n      <td>PARK Sei Hyok</td>\n      <td>DOO</td>\n      <td>2.0</td>\n      <td>1</td>\n      <td>5.05</td>\n      <td>LG</td>\n      <td>0.333</td>\n      <td>...</td>\n      <td>0</td>\n      <td>0</td>\n      <td>0</td>\n      <td>1</td>\n      <td>0</td>\n      <td>0</td>\n      <td>0</td>\n      <td>NaN</td>\n      <td>1</td>\n      <td>2</td>\n    </tr>\n    <tr>\n      <th>1</th>\n      <td>NaN</td>\n      <td>NaN</td>\n      <td>http://eng.koreabaseball.com/Teams/PlayerInfoH...</td>\n      <td>PARK Sei Hyok</td>\n      <td>DOO</td>\n      <td>2.0</td>\n      <td>1</td>\n      <td>5.06</td>\n      <td>LG</td>\n      <td>0.250</td>\n      <td>...</td>\n      <td>0</td>\n      <td>0</td>\n      <td>0</td>\n      <td>0</td>\n      <td>0</td>\n      <td>0</td>\n      <td>1</td>\n      <td>NaN</td>\n      <td>1</td>\n      <td>1</td>\n    </tr>\n    <tr>\n      <th>2</th>\n      <td>NaN</td>\n      <td>NaN</td>\n      <td>http://eng.koreabaseball.com/Teams/PlayerInfoH...</td>\n      <td>PARK Sei Hyok</td>\n      <td>DOO</td>\n      <td>2.0</td>\n      <td>1</td>\n      <td>5.07</td>\n      <td>LG</td>\n      <td>0.333</td>\n      <td>...</td>\n      <td>1</td>\n      <td>0</td>\n      <td>1</td>\n      <td>0</td>\n      <td>0</td>\n      <td>0</td>\n      <td>0</td>\n      <td>NaN</td>\n      <td>1</td>\n      <td>2</td>\n    </tr>\n    <tr>\n      <th>3</th>\n      <td>NaN</td>\n      <td>NaN</td>\n      <td>http://eng.koreabaseball.com/Teams/PlayerInfoH...</td>\n      <td>PARK Sei Hyok</td>\n      <td>DOO</td>\n      <td>2.0</td>\n      <td>1</td>\n      <td>5.08</td>\n      <td>KT</td>\n      <td>0.000</td>\n      <td>...</td>\n      <td>0</td>\n      <td>0</td>\n      <td>0</td>\n      <td>0</td>\n      <td>0</td>\n      <td>1</td>\n      <td>0</td>\n      <td>NaN</td>\n      <td>0</td>\n      <td>0</td>\n    </tr>\n    <tr>\n      <th>4</th>\n      <td>NaN</td>\n      <td>NaN</td>\n      <td>http://eng.koreabaseball.com/Teams/PlayerInfoH...</td>\n      <td>PARK Sei Hyok</td>\n      <td>DOO</td>\n      <td>2.0</td>\n      <td>1</td>\n      <td>5.10</td>\n      <td>KT</td>\n      <td>0.500</td>\n      <td>...</td>\n      <td>0</td>\n      <td>0</td>\n      <td>0</td>\n      <td>2</td>\n      <td>0</td>\n      <td>0</td>\n      <td>0</td>\n      <td>NaN</td>\n      <td>2</td>\n      <td>4</td>\n    </tr>\n  </tbody>\n</table>\n<p>5 rows \u00d7 26 columns</p>\n</div>",
                        "text/plain": "  Fantasy_Team  Fantasy_Position  \\\n0          NaN               NaN   \n1          NaN               NaN   \n2          NaN               NaN   \n3          NaN               NaN   \n4          NaN               NaN   \n\n                                             KBO_URL KBO_Player_Name KBO_Team  \\\n0  http://eng.koreabaseball.com/Teams/PlayerInfoH...   PARK Sei Hyok      DOO   \n1  http://eng.koreabaseball.com/Teams/PlayerInfoH...   PARK Sei Hyok      DOO   \n2  http://eng.koreabaseball.com/Teams/PlayerInfoH...   PARK Sei Hyok      DOO   \n3  http://eng.koreabaseball.com/Teams/PlayerInfoH...   PARK Sei Hyok      DOO   \n4  http://eng.koreabaseball.com/Teams/PlayerInfoH...   PARK Sei Hyok      DOO   \n\n   KBO_Position  Week  Date Opp    AVG  ...  RBI  SB  CS  BB  HBP  SO  GIDP  \\\n0           2.0     1  5.05  LG  0.333  ...    0   0   0   1    0   0     0   \n1           2.0     1  5.06  LG  0.250  ...    0   0   0   0    0   0     1   \n2           2.0     1  5.07  LG  0.333  ...    1   0   1   0    0   0     0   \n3           2.0     1  5.08  KT  0.000  ...    0   0   0   0    0   1     0   \n4           2.0     1  5.10  KT  0.500  ...    0   0   0   2    0   0     0   \n\n   SF  TB  HQS  \n0 NaN   1    2  \n1 NaN   1    1  \n2 NaN   1    2  \n3 NaN   0    0  \n4 NaN   2    4  \n\n[5 rows x 26 columns]"
                    },
                    "execution_count": 3,
                    "metadata": {},
                    "output_type": "execute_result"
                }
            ],
            "source": "# The code was removed by Watson Studio for sharing."
        },
        {
            "cell_type": "code",
            "execution_count": 4,
            "metadata": {},
            "outputs": [
                {
                    "data": {
                        "text/html": "<div>\n<style scoped>\n    .dataframe tbody tr th:only-of-type {\n        vertical-align: middle;\n    }\n\n    .dataframe tbody tr th {\n        vertical-align: top;\n    }\n\n    .dataframe thead th {\n        text-align: right;\n    }\n</style>\n<table border=\"1\" class=\"dataframe\">\n  <thead>\n    <tr style=\"text-align: right;\">\n      <th></th>\n      <th>Fantasy_Team</th>\n      <th>Fantasy_Position</th>\n      <th>KBO_URL</th>\n      <th>KBO_Player_Name</th>\n      <th>KBO_Team</th>\n      <th>KBO_Position</th>\n      <th>Week</th>\n      <th>Date</th>\n      <th>OPP</th>\n      <th>ERA</th>\n      <th>...</th>\n      <th>BB</th>\n      <th>HBP</th>\n      <th>K</th>\n      <th>R</th>\n      <th>ER</th>\n      <th>OAVG</th>\n      <th>QS</th>\n      <th>PQS</th>\n      <th>PQSCat</th>\n      <th>PQSGood</th>\n    </tr>\n  </thead>\n  <tbody>\n    <tr>\n      <th>0</th>\n      <td>Chance</td>\n      <td>1.0</td>\n      <td>http://eng.koreabaseball.com/Teams/PlayerInfoP...</td>\n      <td>YANG Hyeon Jong</td>\n      <td>KIA</td>\n      <td>1</td>\n      <td>1</td>\n      <td>5.05</td>\n      <td>KIWOOM</td>\n      <td>12.0</td>\n      <td>...</td>\n      <td>2</td>\n      <td>0</td>\n      <td>1</td>\n      <td>4</td>\n      <td>4</td>\n      <td>0.308</td>\n      <td>0</td>\n      <td>1</td>\n      <td>3DIS</td>\n      <td>Bad</td>\n    </tr>\n    <tr>\n      <th>1</th>\n      <td>Josh</td>\n      <td>1.0</td>\n      <td>http://eng.koreabaseball.com/Teams/PlayerInfoP...</td>\n      <td>BRIGHAM Jake</td>\n      <td>KIW</td>\n      <td>1</td>\n      <td>1</td>\n      <td>5.05</td>\n      <td>KIA</td>\n      <td>0.0</td>\n      <td>...</td>\n      <td>2</td>\n      <td>0</td>\n      <td>2</td>\n      <td>0</td>\n      <td>0</td>\n      <td>0.182</td>\n      <td>0</td>\n      <td>2</td>\n      <td>2DEC</td>\n      <td>Bad</td>\n    </tr>\n    <tr>\n      <th>2</th>\n      <td>NaN</td>\n      <td>NaN</td>\n      <td>http://eng.koreabaseball.com/Teams/PlayerInfoP...</td>\n      <td>SAUPOLD Warwick</td>\n      <td>HAN</td>\n      <td>1</td>\n      <td>1</td>\n      <td>5.05</td>\n      <td>SK</td>\n      <td>0.0</td>\n      <td>...</td>\n      <td>1</td>\n      <td>0</td>\n      <td>2</td>\n      <td>0</td>\n      <td>0</td>\n      <td>0.069</td>\n      <td>1</td>\n      <td>3</td>\n      <td>2DEC</td>\n      <td>Good</td>\n    </tr>\n    <tr>\n      <th>3</th>\n      <td>NaN</td>\n      <td>NaN</td>\n      <td>http://eng.koreabaseball.com/Teams/PlayerInfoP...</td>\n      <td>ALCANTARA Raul</td>\n      <td>DOO</td>\n      <td>1</td>\n      <td>1</td>\n      <td>5.05</td>\n      <td>LG</td>\n      <td>4.5</td>\n      <td>...</td>\n      <td>2</td>\n      <td>1</td>\n      <td>3</td>\n      <td>3</td>\n      <td>3</td>\n      <td>0.286</td>\n      <td>1</td>\n      <td>2</td>\n      <td>2DEC</td>\n      <td>Bad</td>\n    </tr>\n    <tr>\n      <th>4</th>\n      <td>NaN</td>\n      <td>NaN</td>\n      <td>http://eng.koreabaseball.com/Teams/PlayerInfoP...</td>\n      <td>DESPAIGNE Odrisamer</td>\n      <td>KTW</td>\n      <td>1</td>\n      <td>1</td>\n      <td>5.05</td>\n      <td>LOTTE</td>\n      <td>1.5</td>\n      <td>...</td>\n      <td>0</td>\n      <td>0</td>\n      <td>8</td>\n      <td>1</td>\n      <td>1</td>\n      <td>0.190</td>\n      <td>1</td>\n      <td>5</td>\n      <td>1DOM</td>\n      <td>Good</td>\n    </tr>\n  </tbody>\n</table>\n<p>5 rows \u00d7 25 columns</p>\n</div>",
                        "text/plain": "  Fantasy_Team  Fantasy_Position  \\\n0       Chance               1.0   \n1         Josh               1.0   \n2          NaN               NaN   \n3          NaN               NaN   \n4          NaN               NaN   \n\n                                             KBO_URL      KBO_Player_Name  \\\n0  http://eng.koreabaseball.com/Teams/PlayerInfoP...      YANG Hyeon Jong   \n1  http://eng.koreabaseball.com/Teams/PlayerInfoP...         BRIGHAM Jake   \n2  http://eng.koreabaseball.com/Teams/PlayerInfoP...      SAUPOLD Warwick   \n3  http://eng.koreabaseball.com/Teams/PlayerInfoP...       ALCANTARA Raul   \n4  http://eng.koreabaseball.com/Teams/PlayerInfoP...  DESPAIGNE Odrisamer   \n\n  KBO_Team KBO_Position  Week  Date     OPP   ERA  ... BB  HBP  K  R  ER  \\\n0      KIA            1     1  5.05  KIWOOM  12.0  ...  2    0  1  4   4   \n1      KIW            1     1  5.05     KIA   0.0  ...  2    0  2  0   0   \n2      HAN            1     1  5.05      SK   0.0  ...  1    0  2  0   0   \n3      DOO            1     1  5.05      LG   4.5  ...  2    1  3  3   3   \n4      KTW            1     1  5.05   LOTTE   1.5  ...  0    0  8  1   1   \n\n    OAVG  QS  PQS  PQSCat  PQSGood  \n0  0.308   0    1    3DIS      Bad  \n1  0.182   0    2    2DEC      Bad  \n2  0.069   1    3    2DEC     Good  \n3  0.286   1    2    2DEC      Bad  \n4  0.190   1    5    1DOM     Good  \n\n[5 rows x 25 columns]"
                    },
                    "execution_count": 4,
                    "metadata": {},
                    "output_type": "execute_result"
                }
            ],
            "source": "\nbody = client_f09d32321dd84243be358f7f8a085e56.get_object(Bucket='week3handson-donotdelete-pr-bd6xnlucugk6fh',Key='Pitchers_KBO.csv')['Body']\n# add missing __iter__ method, so pandas accepts body as file-like object\nif not hasattr(body, \"__iter__\"): body.__iter__ = types.MethodType( __iter__, body )\n\ndf_data_2 = pd.read_csv(body)\ndf_data_2.head()\n"
        }
    ],
    "metadata": {
        "kernelspec": {
            "display_name": "Python 3.7",
            "language": "python",
            "name": "python3"
        },
        "language_info": {
            "codemirror_mode": {
                "name": "ipython",
                "version": 3
            },
            "file_extension": ".py",
            "mimetype": "text/x-python",
            "name": "python",
            "nbconvert_exporter": "python",
            "pygments_lexer": "ipython3",
            "version": "3.7.9"
        }
    },
    "nbformat": 4,
    "nbformat_minor": 1
}